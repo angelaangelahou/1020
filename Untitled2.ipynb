{
  "nbformat": 4,
  "nbformat_minor": 0,
  "metadata": {
    "colab": {
      "provenance": []
    },
    "kernelspec": {
      "name": "python3",
      "display_name": "Python 3"
    },
    "language_info": {
      "name": "python"
    }
  },
  "cells": [
    {
      "cell_type": "code",
      "execution_count": null,
      "metadata": {
        "colab": {
          "base_uri": "https://localhost:8080/"
        },
        "id": "7n6YLqlm9n_D",
        "outputId": "256a7eb4-2f91-419f-84a9-44723ca9a2f8"
      },
      "outputs": [
        {
          "output_type": "stream",
          "name": "stdout",
          "text": [
            "輸入範圍： 3\n",
            "1 x 1 = 1\n",
            "1 x 2 = 2\n",
            "2 x 1 = 2\n",
            "2 x 2 = 4\n"
          ]
        }
      ],
      "source": [
        "num_str= input(\"輸入範圍： \")\n",
        "num = int(num_str)\n",
        "for i in range(1,num):\n",
        "  for j in range(1,num):\n",
        "    pruduct = i * j\n",
        "    print(f\"{i} x {j} = {pruduct}\")"
      ]
    },
    {
      "cell_type": "code",
      "source": [
        "import random\n",
        "target_number = random.randint(1,100)\n",
        "print(\"歡迎參加猜數字遊戲！\")\n",
        "start=0\n",
        "while start==0:\n",
        "  num_str = input(\"猜一個1-100間的數字： \")\n",
        "  num = int(num_str)\n",
        "  if num>target_number:\n",
        "    print(\"小一點\")\n",
        "\n",
        "  elif num < target_number:\n",
        "    print(\"大一點\")\n",
        "\n",
        "  else :\n",
        "    print(\"猜對了\")\n",
        "    start=1\n",
        "print(\"遊戲結束。\")"
      ],
      "metadata": {
        "colab": {
          "base_uri": "https://localhost:8080/"
        },
        "id": "1EKQ6q5vB9Hj",
        "outputId": "c3d1a839-ec01-44c4-d611-3d664f868e7e"
      },
      "execution_count": null,
      "outputs": [
        {
          "output_type": "stream",
          "name": "stdout",
          "text": [
            "歡迎參加猜數字遊戲！\n",
            "猜一個1-100間的數字： 50\n",
            "大一點\n",
            "猜一個1-100間的數字： 75\n",
            "大一點\n",
            "猜一個1-100間的數字： 88\n",
            "小一點\n",
            "猜一個1-100間的數字： 80\n",
            "大一點\n",
            "猜一個1-100間的數字： 84\n",
            "小一點\n",
            "猜一個1-100間的數字： 82\n",
            "大一點\n",
            "猜一個1-100間的數字： 83\n",
            "猜對了\n",
            "遊戲結束。\n"
          ]
        }
      ]
    }
  ]
}